{
 "cells": [
  {
   "cell_type": "code",
   "execution_count": 1,
   "id": "ff04887a-2785-4661-9a9b-7b506f9a8db3",
   "metadata": {},
   "outputs": [
    {
     "name": "stdout",
     "output_type": "stream",
     "text": [
      "Welcome to JupyROOT 6.26/00\n"
     ]
    }
   ],
   "source": [
    "from ROOT import TEfficiency, TFile, TDirectory, TCanvas, gStyle, TGraphAsymmErrors, TLegend, EColor, TMarker, TLine\n",
    "import glob\n",
    "from PIL import Image\n",
    "import ROOT\n",
    "import numpy as np"
   ]
  },
  {
   "cell_type": "code",
   "execution_count": 2,
   "id": "c9f65286-068c-4ecc-8951-add620644a73",
   "metadata": {},
   "outputs": [],
   "source": [
    "x =  ( 0.5, 1., 1.5, 2., 2.1, 2.2, 2.3, 2.4, 2.5, 2.7, 2.8, 2.9, 3., 3.1, 3.2, 3.3, 3.4, 3.5, 3.6, 3.7, 3.8, 3.9, 4., 4.5, 5., 5.5, 6., 6.5, 7.)\n",
    "x2 = [ 0., 0.5, 1., 2., 3., 4., 5., 7., 9., 12., 15., 18., 21., 24., 30., 35., 40., 45., 50.]\n",
    "#vcol = (EColor.kRed-9, EColor.kRed-4, EColor.kRed, EColor.kRed+2, EColor.kYellow -3, EColor.kYellow, EColor.kGreen, EColor.kGreen+1, EColor.kGreen+2, EColor.kAzure-4, EColor.kAzure+1, EColor.kAzure, EColor.kMagenta, EColor.kMagenta +1)\n",
    "vcol = (EColor.kRed-9, EColor.kRed-4, EColor.kRed, EColor.kRed+2, EColor.kYellow -3, EColor.kYellow, EColor.kGreen, EColor.kGreen+1, EColor.kGreen+2, EColor.kAzure-4, EColor.kAzure+1, EColor.kAzure, EColor.kMagenta, EColor.kMagenta +1)\n",
    "def getCol(i, j =2) :\n",
    "    return vcol[i]\n",
    "def getcolor(i, j =2) :\n",
    "    return  99 - (i * 2)\n",
    "def getcolorOne(i, j) :\n",
    "    if ( i != j ) :\n",
    "        return 17\n",
    "    else :\n",
    "        return 99 - ( i *2)"
   ]
  },
  {
   "cell_type": "code",
   "execution_count": 18,
   "id": "5cf63392-870c-474a-b298-8a9e71e6c880",
   "metadata": {},
   "outputs": [],
   "source": [
    "# f_out2 = TFile.Open(\"output_MuonGunEMBHighPt_Gen_acc_finePt_v2_11.root\")\n",
    "# f_out1 = TFile.Open(\"output_MuonGunEMBLowPt_Gen_acc_finePt_v2_11.root\")\n",
    "# ver1 = \"v2_11\"\n",
    "# pltdir = \"Eff_%s\" % ver1\n",
    "# ver = \"MuonGunEMB_Gen_acc_finePt\" + ver1\n",
    "\n",
    "# f_out2 = TFile.Open(\"output_MuonGunEMBHighPt_Gen_acc_finePt_muSizeIs2_v2_11.root\")\n",
    "# f_out1 = TFile.Open(\"output_MuonGunEMBLowPt_Gen_acc_finePt_muSizeIs2_v2_11.root\")\n",
    "# ver1 = \"v2_11\"\n",
    "# pltdir = \"Eff_%s\" % ver1\n",
    "# head = \"MuonGunEMB\"; ver = head + \"_Gen_acc_finePt_\" + ver1;\n",
    "\n",
    "f_out2 = TFile.Open(\"output_MuonGunHighPt_Gen_acc_finePt_v2_11.root\")\n",
    "f_out1 = TFile.Open(\"output_MuonGunLowPt_Gen_acc_finePt_v2_11.root\")\n",
    "ver1 = \"v2_11\"\n",
    "pltdir = \"Eff_%s\" % ver1\n",
    "head = \"MuonGun\"; ver = head + \"_Gen_acc_finePt_\" + ver1;\n",
    "\n",
    "# f_out2 = TFile.Open(\"output_MuonGunHighPt_Gen_acc_finePt_muSizeIs2_v2_11.root\")\n",
    "# f_out1 = TFile.Open(\"output_MuonGunLowPt_Gen_acc_finePt_muSizeIs2_v2_11.root\")\n",
    "# ver1 = \"v2_11\"\n",
    "# pltdir = \"Eff_%s\" % ver1\n",
    "# head = \"MuonGun\"; ver = head + \"_Gen_acc_finePt_\" + ver1;"
   ]
  },
  {
   "cell_type": "code",
   "execution_count": 12,
   "id": "49ce38f4-452e-4922-be6d-57d22dc7c989",
   "metadata": {},
   "outputs": [
    {
     "name": "stderr",
     "output_type": "stream",
     "text": [
      "Warning in <TCanvas::Constructor>: Deleting canvas with same name: c1\n",
      "Warning in <TCanvas::Constructor>: Deleting canvas with same name: ctmp\n"
     ]
    }
   ],
   "source": [
    "canv = TCanvas(\"c1\", \"\" ,700, 600);\n",
    "canv.SetGrid()\n",
    "canv_tmp = TCanvas(\"ctmp\", \"\" ,700, 600);\n",
    "gStyle.SetEndErrorSize(0)\n",
    "range_up = 1.0\n",
    "range_do = 0.6\n",
    "marker_size = 1.2\n",
    "marker_style = 20\n",
    "marker_style2 = 22\n",
    "leg = TLegend(0.15,0.12,0.45,0.35)\n",
    "leg.SetBorderSize(0)\n",
    "leg.SetHeader(head)"
   ]
  },
  {
   "cell_type": "code",
   "execution_count": 7,
   "id": "26db0e26-cade-4e73-9709-8ec6a0140aad",
   "metadata": {},
   "outputs": [],
   "source": [
    "def DrawTrigSeq(_hist, canv, _and = False, _col = 221, _leg = 0, _marker = 1, _disc = \"\") :\n",
    "    canv_tmp.cd()\n",
    "    _hist.Draw()\n",
    "    canv_tmp.Update()\n",
    "    hist = _hist.GetPaintedGraph()\n",
    "    canv.Draw()\n",
    "    canv.cd()\n",
    "\n",
    "    col = _col\n",
    "    if( _and ) : col = col-1\n",
    "    hist.SetLineColor(col)\n",
    "    hist.SetMarkerColor(col)\n",
    "    hist.SetMarkerSize(marker_size)\n",
    "    hist.SetMarkerStyle(_marker)\n",
    "    hist.GetYaxis().SetRangeUser(range_do,range_up)\n",
    "    hist.GetYaxis().SetNdivisions(int((range_up)*10))\n",
    "    hist.GetXaxis().SetRangeUser(0,50)\n",
    "    hist.GetXaxis().SetNdivisions(25)\n",
    "    hist.GetXaxis().SetTitle(\"p_{T} (GeV/c)\")\n",
    "    hist.GetYaxis().SetTitle(\"Efficiency\")\n",
    "\n",
    "    if( _leg != 0 ) :\n",
    "        leg.AddEntry(hist, _disc)\n",
    "    if( _and ) :\n",
    "        hist.Draw( \"PEL\" )\n",
    "    else : \n",
    "        hist.Draw( \"APEL\" )\n",
    "\n",
    "    canv.Draw()\n",
    "    if ( _leg == 0) :\n",
    "        return canv, 0\n",
    "    else :\n",
    "        return canv, leg"
   ]
  },
  {
   "cell_type": "code",
   "execution_count": 8,
   "id": "052bbfed-8f7b-47c4-89c5-316ff1a3570e",
   "metadata": {},
   "outputs": [],
   "source": [
    "def getCombinedEff(trig):\n",
    "    h1 = f_out1.Get(\"%s/pt\" %(trig) )\n",
    "    h2 = f_out2.Get(\"%s/pt\" %(trig) )\n",
    "    p_h1 = h1.GetCopyPassedHisto()\n",
    "    t_h1 = h1.GetCopyTotalHisto()\n",
    "    p_h2 = h2.GetCopyPassedHisto()\n",
    "    t_h2 = h2.GetCopyTotalHisto()\n",
    "\n",
    "    for i in range (27,97):\n",
    "        p_h1.SetBinContent(i, p_h2.GetBinContent(i))\n",
    "        t_h1.SetBinContent(i, t_h2.GetBinContent(i))\n",
    "\n",
    "#    h3 = TEfficiency(p_h1, t_h1)\n",
    "    return TEfficiency(p_h1, t_h1)"
   ]
  },
  {
   "cell_type": "code",
   "execution_count": 19,
   "id": "690cf7da-4d65-44b2-a6cb-5e7994ec3369",
   "metadata": {},
   "outputs": [
    {
     "name": "stderr",
     "output_type": "stream",
     "text": [
      "Info in <TCanvas::Print>: pdf file Eff_v2_11/Eff_pt_RateCut_Comp_Simu_MuonGun_Gen_acc_finePt_v2_11.pdf has been created\n",
      "Info in <TCanvas::Print>: png file Eff_v2_11/Eff_pt_RateCut_Comp_Simu_MuonGun_Gen_acc_finePt_v2_11.png has been created\n"
     ]
    },
    {
     "data": {
      "image/png": "[encoded data removed]",
      "text/plain": [
       "<IPython.core.display.Image object>"
      ]
     },
     "metadata": {},
     "output_type": "display_data"
    }
   ],
   "source": [
    "leg.SetNColumns(1)\n",
    "leg.SetTextSize(0.024)\n",
    "leg.SetX1(0.51);leg.SetX2(0.91);leg.SetY1(0.12);leg.SetY2(0.45);\n",
    "leg.Clear()\n",
    "#canv, leg = DrawTrigSeq(f_out1.Get(\"L1DoubleMuOpen\"), 'pt', canv, _col = 221, _leg = leg, _disc = \"L1DoubleMuOpen v2-6\")\n",
    "#canv, leg = DrawTrigSeq(f_out1.Get(\"L1DoubleMuZero\"), 'pt', canv, _and = True, _col = 221, _leg = leg, _disc = \"L1DoubleMuZero v2-6\")\n",
    "#canv, leg = DrawTrigSeq(f_out1.Get(\"L1DoubleMuSQ\"), 'pt', canv, _and = True, _col = 208, _leg = leg, _disc = \"L1DoubleMu SQ v2-6\")\n",
    "hist1 = getCombinedEff(\"HLT_HIL1Mu0_v\")\n",
    "hist2 = getCombinedEff(\"HLT_HIL2Mu0_v\")\n",
    "hist3 = getCombinedEff(\"HLT_HIL3Mu0_v\")\n",
    "\n",
    "canv, leg = DrawTrigSeq(hist1, canv, _and = False, _col = getcolor(0), _leg = leg, _marker = 24, _disc = \"HLT_HIL1Mu0_v\")# %s\" % ver1)# v2-7-mod1\")\n",
    "canv, leg = DrawTrigSeq(hist2, canv, _and = True, _col = getcolor(10), _leg = leg, _marker = 24, _disc = \"HLT_HIL2Mu0_v\")# %s\" % ver1)# v2-7-mod1\")\n",
    "canv, leg = DrawTrigSeq(hist3, canv, _and = True, _col = getcolor(20), _leg = leg, _marker = 20, _disc = \"HLT_HIL3Mu0_v\")# %s\" % ver1)# v2-7-mod1\")\n",
    "\n",
    "\n",
    "# canv, leg = DrawTrigSeq(f_leg.Get(\"HLT_HIL1DoubleMuOpen_v\"), 'pt', canv, _and = True, _col = 2, _leg = leg, _disc = \"HLT_HIL1DoubleMu0_Legacy_v\")\n",
    "leg.DrawClone()\n",
    "canv.SetLogx()\n",
    "canv.Draw()\n",
    "canv.SaveAs(\"%s/Eff_pt_RateCut_Comp_Simu_%s.pdf\" % (pltdir, ver) )\n",
    "canv.SaveAs(\"%s/Eff_pt_RateCut_Comp_Simu_%s.png\" % (pltdir, ver) )\n",
    "leg.Clear()"
   ]
  },
  {
   "cell_type": "code",
   "execution_count": 8,
   "id": "fbf0b8ee-6986-4d78-808c-def0f30f36b2",
   "metadata": {},
   "outputs": [
    {
     "data": {
      "image/png": "[encoded data removed]",
      "text/plain": [
       "<IPython.core.display.Image object>"
      ]
     },
     "metadata": {},
     "output_type": "display_data"
    }
   ],
   "source": [
    "canv.Clear()\n",
    "canv.Draw()\n",
    "canv.cd()\n",
    "h1 = f_out1.Get(\"%s/pt\" %('HLT_HIL3Mu0_v') )\n",
    "h1.Draw()"
   ]
  },
  {
   "cell_type": "code",
   "execution_count": 9,
   "id": "e610cb74-b606-45b1-9ba7-568283a8419c",
   "metadata": {},
   "outputs": [],
   "source": [
    "hx = h1.GetCopyPassedHisto()"
   ]
  },
  {
   "cell_type": "code",
   "execution_count": 10,
   "id": "9bd1294f-333f-4e04-8460-7989adc35b77",
   "metadata": {},
   "outputs": [
    {
     "data": {
      "text/plain": [
       "0.0"
      ]
     },
     "execution_count": 10,
     "metadata": {},
     "output_type": "execute_result"
    }
   ],
   "source": [
    "hx.GetBinContent(6)"
   ]
  },
  {
   "cell_type": "code",
   "execution_count": 11,
   "id": "5103a180-c529-4a40-bec7-aa8c241ac481",
   "metadata": {},
   "outputs": [],
   "source": [
    "s= \"\"\n",
    "for i in np.arange(2,9,0.1):\n",
    "    s += str(round(i, 2)) + \", \""
   ]
  },
  {
   "cell_type": "code",
   "execution_count": 12,
   "id": "58a52325-5ef5-4f3f-8eb9-1205fdf4d255",
   "metadata": {},
   "outputs": [
    {
     "name": "stdout",
     "output_type": "stream",
     "text": [
      "2.0, 2.1, 2.2, 2.3, 2.4, 2.5, 2.6, 2.7, 2.8, 2.9, 3.0, 3.1, 3.2, 3.3, 3.4, 3.5, 3.6, 3.7, 3.8, 3.9, 4.0, 4.1, 4.2, 4.3, 4.4, 4.5, 4.6, 4.7, 4.8, 4.9, 5.0, 5.1, 5.2, 5.3, 5.4, 5.5, 5.6, 5.7, 5.8, 5.9, 6.0, 6.1, 6.2, 6.3, 6.4, 6.5, 6.6, 6.7, 6.8, 6.9, 7.0, 7.1, 7.2, 7.3, 7.4, 7.5, 7.6, 7.7, 7.8, 7.9, 8.0, 8.1, 8.2, 8.3, 8.4, 8.5, 8.6, 8.7, 8.8, 8.9, \n"
     ]
    }
   ],
   "source": [
    "print(s)"
   ]
  },
  {
   "cell_type": "code",
   "execution_count": 57,
   "id": "43686a61-7b8c-4816-961e-7bc8db3fe34a",
   "metadata": {},
   "outputs": [
    {
     "data": {
      "image/png": "[encoded data removed]",
      "text/plain": [
       "<IPython.core.display.Image object>"
      ]
     },
     "metadata": {},
     "output_type": "display_data"
    }
   ],
   "source": [
    "canv.Clear()\n",
    "canv.cd()\n",
    "\n",
    "a = TLine() \n",
    "a.SetLineWidth(2)\n",
    "a.SetLineStyle(2)\n",
    "hist3.Draw()\n",
    "a.DrawLine(3.5,0, 3.5, 1)\n",
    "\n",
    "canv.Draw()"
   ]
  },
  {
   "cell_type": "code",
   "execution_count": null,
   "id": "ec0440e7-3bd9-4692-bf1b-c7f12aa16df4",
   "metadata": {},
   "outputs": [],
   "source": []
  },
  {
   "cell_type": "code",
   "execution_count": null,
   "id": "51bbe146-121a-43e9-99da-2f2b33589409",
   "metadata": {},
   "outputs": [],
   "source": []
  }
 ],
 "metadata": {
  "kernelspec": {
   "display_name": "Python 3 (ipykernel)",
   "language": "python",
   "name": "python3"
  },
  "language_info": {
   "codemirror_mode": {
    "name": "ipython",
    "version": 3
   },
   "file_extension": ".py",
   "mimetype": "text/x-python",
   "name": "python",
   "nbconvert_exporter": "python",
   "pygments_lexer": "ipython3",
   "version": "3.8.10"
  }
 },
 "nbformat": 4,
 "nbformat_minor": 5
}
