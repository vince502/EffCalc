{
 "cells": [
  {
   "cell_type": "code",
   "execution_count": 1,
   "id": "61a828de-a98e-4341-9040-193b98da0902",
   "metadata": {},
   "outputs": [
    {
     "name": "stdout",
     "output_type": "stream",
     "text": [
      "Welcome to JupyROOT 6.26/00\n"
     ]
    }
   ],
   "source": [
    "from ROOT import TEfficiency, TFile, TDirectory, TCanvas, gStyle, TGraphAsymmErrors, TLegend"
   ]
  },
  {
   "cell_type": "code",
   "execution_count": 2,
   "id": "d02ffb0d-759e-4282-a54a-5f86182044ac",
   "metadata": {},
   "outputs": [],
   "source": [
    "x =  ( 0.5, 1., 1.5, 2., 2.5, 3., 3.5, 4., 4.5, 5., 5.5, 6., 6.5, 7.)\n",
    "def getcolor(i) :\n",
    "    return  99 - (i * 3)"
   ]
  },
  {
   "cell_type": "code",
   "execution_count": 3,
   "id": "365a0315-b27b-4164-8baa-1d9338f82adc",
   "metadata": {},
   "outputs": [],
   "source": [
    "f_out = TFile.Open(\"output_Data2018_newMenu.root\")\n",
    "dir_L1Dmu = f_out.Get(\"L1DoubleMuOpen\")\n",
    "dir_L2Dmu = f_out.Get(\"L2DoubleMuOpen\")\n",
    "dir_L3Dmu = f_out.Get(\"L3DoubleMuOpen\")\n",
    "\n",
    "#dir_L1Smu = f_out.Get(\"L1SingleMuOpen\")"
   ]
  },
  {
   "cell_type": "code",
   "execution_count": 4,
   "id": "be99302f-809d-4b7b-8494-a09343ffe702",
   "metadata": {},
   "outputs": [],
   "source": [
    "canv = TCanvas(\"c1\", \"\" ,700, 600);\n",
    "canv_tmp = TCanvas(\"ctmp\", \"\" ,700, 600);"
   ]
  },
  {
   "cell_type": "code",
   "execution_count": 5,
   "id": "85e3b213-18eb-4e90-82c0-bd45c05d4ebb",
   "metadata": {},
   "outputs": [],
   "source": [
    "gStyle.SetEndErrorSize(0)\n",
    "range_up = 1.1\n",
    "marker_size = 1.1\n",
    "marker_style = 21"
   ]
  },
  {
   "cell_type": "code",
   "execution_count": 55,
   "id": "c1eecfcd-c084-4896-b529-3bf215127c50",
   "metadata": {},
   "outputs": [],
   "source": [
    "canv.cd();\n",
    "def DrawTrig(trigDir, canv) :\n",
    "    canv.Clear();\n",
    "    canv.SetGrid()\n",
    "    canv.cd();\n",
    "    leg = TLegend(0.5, 0.2, 0.8, 0.45)\n",
    "    leg.SetBorderSize(0)\n",
    "    leg.SetNColumns(2)\n",
    "    first = True;\n",
    "    for i in reversed(range(len(x))):\n",
    "        hist = trigDir.Get('pt_%dp%d' % (int(x[i]), int(10 *(x[i] - int(x[i]) ))))\n",
    "        canv_tmp.cd()\n",
    "        hist.Draw()\n",
    "        canv_tmp.Update()\n",
    "        if( (hist.IsA()).GetName() == \"TEfficiency\") :\n",
    "            hist = hist.GetPaintedGraph()\n",
    "        canv.cd()\n",
    "        hist.SetLineColor( getcolor(i) )\n",
    "        hist.SetMarkerColor( getcolor(i) )\n",
    "        hist.SetMarkerSize(marker_size)\n",
    "        hist.SetMarkerStyle(marker_style)\n",
    "        hist.GetYaxis().SetRangeUser(0,range_up)\n",
    "        hist.GetYaxis().SetNdivisions(int(range_up *10))\n",
    "        hist.GetXaxis().SetRangeUser(0,50)\n",
    "        hist.GetXaxis().SetNdivisions(25)\n",
    "        hist.Draw( \"APE\" if first else \"PE\")\n",
    "        leg.AddEntry(hist, \"pt > %.1f\" % x[i])\n",
    "        first = False\n",
    "    leg.DrawClone()\n",
    "    canv.Draw()\n",
    "    return canv\n",
    "\n",
    "def DrawTrigOne(trigDir, obj, canv, _and = False, _col = 221) :\n",
    "    if not ( _and ) :\n",
    "        canv.Clear();\n",
    "    first = True;\n",
    "    hist = trigDir.Get(obj)\n",
    "#    canv_tmp.cd()\n",
    "#    hist.Draw()\n",
    "#    canv_tmp.Update()\n",
    "    if( (hist.IsA()).GetName() == \"TEfficiency\") :\n",
    "        canv_tmp.cd()\n",
    "        hist.Draw()\n",
    "        canv_tmp.Update()\n",
    "        hist = hist.GetPaintedGraph()\n",
    "    canv.cd()\n",
    "    canv.Draw()\n",
    "    col = _col\n",
    "    if( _and ) : col = col-1\n",
    "    hist.SetLineColor(col)\n",
    "    hist.SetMarkerColor(col)\n",
    "    hist.SetMarkerSize(marker_size)\n",
    "    hist.SetMarkerStyle(marker_style)\n",
    "    hist.GetYaxis().SetRangeUser(0,range_up)\n",
    "    hist.GetYaxis().SetNdivisions(int(range_up *10))\n",
    "    hist.GetXaxis().SetRangeUser(0,50)\n",
    "    hist.GetXaxis().SetNdivisions(25)\n",
    "    if( _and ) :\n",
    "        print(\"and\")\n",
    "#        canv.Draw()\n",
    "        hist.Draw( \"PE\" )\n",
    "#        canv.Draw(\"\")\n",
    "    else : \n",
    "        hist.Draw( \"APE\" )\n",
    "#        canv.Draw()\n",
    "    \n",
    "    canv.Draw()\n",
    "    return canv\n",
    "\n",
    "def DrawTrigSeq(trigDir, obj, canv, _and = False, _col = 221, _leg = 0, _disc = \"\") :\n",
    "    if not ( _and ) :\n",
    "        canv.Clear();\n",
    "    first = True;\n",
    "    hist = trigDir.Get(obj)\n",
    "    if( (hist.IsA()).GetName() == \"TEfficiency\") :\n",
    "        canv_tmp.cd()\n",
    "        hist.Draw()\n",
    "        canv_tmp.Update()\n",
    "        hist = hist.GetPaintedGraph()\n",
    "    canv.cd()\n",
    "    canv.Draw()\n",
    "    col = _col\n",
    "    if( _and ) : col = col-1\n",
    "    hist.SetLineColor(col)\n",
    "    hist.SetMarkerColor(col)\n",
    "    hist.SetMarkerSize(marker_size)\n",
    "    hist.SetMarkerStyle(marker_style)\n",
    "    hist.GetYaxis().SetRangeUser(0,range_up)\n",
    "    hist.GetYaxis().SetNdivisions(int(range_up *10))\n",
    "    hist.GetXaxis().SetRangeUser(0,50)\n",
    "    hist.GetXaxis().SetNdivisions(25)\n",
    "    if( _leg != 0 ) :\n",
    "        leg.AddEntry(hist, _disc)\n",
    "    if( _and ) :\n",
    "        hist.Draw( \"PE\" )\n",
    "    else : \n",
    "        hist.Draw( \"APE\" )\n",
    "\n",
    "    canv.Draw()\n",
    "    if ( _leg == 0) :\n",
    "        return canv, 0\n",
    "    else :\n",
    "        return canv, leg"
   ]
  },
  {
   "cell_type": "code",
   "execution_count": 7,
   "id": "4768d22c-287e-4ed3-aca6-b2603faede9a",
   "metadata": {},
   "outputs": [
    {
     "name": "stderr",
     "output_type": "stream",
     "text": [
      "Info in <TCanvas::Print>: pdf file Eff_pt_L1DoubleMuOpen.pdf has been created\n",
      "Info in <TCanvas::Print>: pdf file Eff_pt_L3DoubleMuOpen.pdf has been created\n",
      "Info in <TCanvas::Print>: pdf file Eff_pt_L1SingleMuOpen.pdf has been created\n"
     ]
    },
    {
     "data": {
      "image/png": "[encoded data removed]",
      "text/plain": [
       "<IPython.core.display.Image object>"
      ]
     },
     "metadata": {},
     "output_type": "display_data"
    }
   ],
   "source": [
    "# f_out = TFile.Open(\"output_Data2018_newMenu.root\")\n",
    "f_out = TFile.Open(\"output_Data2018_newMenudRCut0p3.root\")\n",
    "#canv = DrawTrig(dir_L1Smu, canv)\n",
    "#canv.SaveAs(\"Eff_Sectrum_pt_L1SingleMuOpen.pdf\")\n",
    "# canv = DrawTrig(dir_L1Dmu, canv)\n",
    "# canv.SaveAs(\"Eff_Sectrum_pt_L1DoubleMuOpen.pdf\")\n",
    "# canv = DrawTrig(dir_L2Dmu, canv)\n",
    "# canv.SaveAs(\"Eff_Sectrum_pt_L2DoubleMuOpen.pdf\")\n",
    "# canv = DrawTrig(dir_L3Dmu, canv)\n",
    "# canv.SaveAs(\"Eff_Sectrum_pt_L3DoubleMuOpen.pdf\")\n",
    "canv = DrawTrigOne(f_out.Get(\"HLT_HIL1DoubleMu0_Open_v\"), 'pt', canv)\n",
    "canv.SaveAs(\"Eff_pt_L1DoubleMuOpen.pdf\")\n",
    "canv = DrawTrigOne(f_out.Get(\"HLT_HIL3DoubleMu0_Open_v\"), 'pt', canv)\n",
    "canv.SaveAs(\"Eff_pt_L3DoubleMuOpen.pdf\")\n",
    "canv = DrawTrigOne(f_out.Get(\"HLT_HIL1Mu0_v\"), 'pt', canv)\n",
    "canv.SaveAs(\"Eff_pt_L1SingleMuOpen.pdf\")\n",
    "# canv = DrawTrigOne(f_out.Get(\"HLT_HIL2Mu0_L1DoubleMu0_v\"), canv)\n",
    "# canv.SaveAs(\"Eff_pt_L2DoubleMuOpen.pdf\")\n",
    "# canv = DrawTrigOne(f_out.Get(\"HLT_HIL3Mu0_L1DoubleMuOpen_v\"), canv)\n",
    "# canv.SaveAs(\"Eff_pt_L3DoubleMuOpen.pdf\")"
   ]
  },
  {
   "cell_type": "code",
   "execution_count": 8,
   "id": "a3b22116-f8d4-4912-9a29-bb2769a47504",
   "metadata": {},
   "outputs": [],
   "source": [
    "canv.Clear();\n"
   ]
  },
  {
   "cell_type": "code",
   "execution_count": 9,
   "id": "bf7f70c7-8bc5-4f94-84b8-9e98d9653a3b",
   "metadata": {},
   "outputs": [],
   "source": [
    "f_old = TFile.Open(\"outputEff_HLT_Track_miscal.root\")"
   ]
  },
  {
   "cell_type": "code",
   "execution_count": 10,
   "id": "51bf366e-898d-47f1-8dbf-210fcb7766ff",
   "metadata": {},
   "outputs": [],
   "source": [
    "f_leg = TFile.Open(\"output_Data2018_LegacydR0p3.root\")"
   ]
  },
  {
   "cell_type": "code",
   "execution_count": 11,
   "id": "af6cdcfc-d33d-4245-83e6-bfa8e42a2270",
   "metadata": {},
   "outputs": [],
   "source": [
    "d_old = f_old.Get(\"effDoubleMuon_HLT_HIL3DoubleMuOpen_v1_Pt\")"
   ]
  },
  {
   "cell_type": "code",
   "execution_count": 17,
   "id": "7b3538e8-d4ca-457e-9bb3-cb37a8ac1582",
   "metadata": {},
   "outputs": [
    {
     "name": "stdout",
     "output_type": "stream",
     "text": [
      "and\n",
      "and\n",
      "and\n"
     ]
    },
    {
     "name": "stderr",
     "output_type": "stream",
     "text": [
      "Info in <TCanvas::Print>: pdf file Eff_pt_L1DoubleMuOpen_Comp.pdf has been created\n",
      "Info in <TCanvas::Print>: pdf file Eff_pt_L2DoubleMuOpen_Comp.pdf has been created\n",
      "Info in <TCanvas::Print>: pdf file Eff_pt_L3DoubleMuOpen_Comp.pdf has been created\n"
     ]
    },
    {
     "data": {
      "image/png": "[encoded data removed]",
      "text/plain": [
       "<IPython.core.display.Image object>"
      ]
     },
     "metadata": {},
     "output_type": "display_data"
    }
   ],
   "source": [
    "canv = DrawTrigOne(f_out.Get(\"HLT_HIL1DoubleMu0_Open_v\"), 'pt', canv)\n",
    "canv = DrawTrigOne(f_out.Get(\"HLT_HIL1DoubleMu0_Zero_v\"), 'pt', canv, _col = 218)\n",
    "canv = DrawTrigOne(f_out.Get(\"HLT_HIL1DoubleMu0_SQ_v\"), 'pt', canv, _col = 208)\n",
    "canv = DrawTrigOne(f_old.Get(\"effDoubleMuon_HLT_HIL1DoubleMuOpen_v1_Pt\"), 'effDoubleMuon_HLT_HIL1DoubleMuOpen_v1_Pt_online', canv, _and = True)\n",
    "canv.SaveAs(\"Eff_pt_L1DoubleMuOpen_Comp.pdf\")\n",
    "canv = DrawTrigOne(f_out.Get(\"HLT_HIL2DoubleMu0_Open_v\"), 'pt', canv)\n",
    "canv = DrawTrigOne(f_old.Get(\"effDoubleMuon_HLT_HIL2DoubleMuOpen_v1_Pt\"), 'effDoubleMuon_HLT_HIL2DoubleMuOpen_v1_Pt_online', canv, _and = True)\n",
    "canv.SaveAs(\"Eff_pt_L2DoubleMuOpen_Comp.pdf\")\n",
    "canv = DrawTrigOne(f_out.Get(\"HLT_HIL3DoubleMu0_Open_v\"), 'pt', canv)\n",
    "canv = DrawTrigOne(f_old.Get(\"effDoubleMuon_HLT_HIL3DoubleMuOpen_v1_Pt\"), 'effDoubleMuon_HLT_HIL3DoubleMuOpen_v1_Pt_online', canv, _and = True)\n",
    "canv.SaveAs(\"Eff_pt_L3DoubleMuOpen_Comp.pdf\")"
   ]
  },
  {
   "cell_type": "code",
   "execution_count": 13,
   "id": "ffbf293f-c345-4936-b90f-d4a4e4415953",
   "metadata": {},
   "outputs": [],
   "source": [
    "def hicanv(canv ):\n",
    "    canv.Draw()\n",
    "    return canv"
   ]
  },
  {
   "cell_type": "code",
   "execution_count": 52,
   "id": "ee30558f-7c2d-45da-8010-d53857129414",
   "metadata": {},
   "outputs": [],
   "source": [
    "leg = TLegend(0.15,0.12,0.45,0.35)\n",
    "leg.SetBorderSize(0)"
   ]
  },
  {
   "cell_type": "code",
   "execution_count": 67,
   "id": "0a1d4d7b-288e-4c53-a92c-a5d5207d06a2",
   "metadata": {},
   "outputs": [
    {
     "name": "stderr",
     "output_type": "stream",
     "text": [
      "Info in <TCanvas::Print>: pdf file Eff_pt_L1DoubleMuOpen_Comp.pdf has been created\n",
      "Info in <TCanvas::Print>: pdf file Eff_pt_L2DoubleMuOpen_Comp.pdf has been created\n",
      "Info in <TCanvas::Print>: pdf file Eff_pt_L3DoubleMuOpen_Comp.pdf has been created\n"
     ]
    },
    {
     "data": {
      "image/png": "[encoded data removed]",
      "text/plain": [
       "<IPython.core.display.Image object>"
      ]
     },
     "metadata": {},
     "output_type": "display_data"
    }
   ],
   "source": [
    "leg.SetX1(0.15);leg.SetX2(0.45);leg.SetY1(0.12);leg.SetY2(0.35);\n",
    "leg.Clear()\n",
    "canv, leg = DrawTrigSeq(f_out.Get(\"HLT_HIL1DoubleMu0_Open_v\"), 'pt', canv, _col = 221, _leg = leg, _disc = \"HLT_HIL1DoubleMu0_Open_v\")\n",
    "canv, leg = DrawTrigSeq(f_out.Get(\"HLT_HIL1DoubleMu0_Zero_v\"), 'pt', canv, _and = True, _col = 221, _leg = leg, _disc = \"HLT_HIL1DoubleMu0_Zero_v\")\n",
    "canv, leg = DrawTrigSeq(f_out.Get(\"HLT_HIL1DoubleMu0_SQ_v\"), 'pt', canv, _and = True, _col = 208, _leg = leg, _disc = \"HLT_HIL1DoubleMu0_SQ_v\")\n",
    "canv, leg = DrawTrigSeq(f_leg.Get(\"HLT_HIL1DoubleMuOpen_v\"), 'pt', canv, _and = True, _col = 5, _leg = leg, _disc = \"HLT_HIL1DoubleMu0_Legacy_v\")\n",
    "leg.DrawClone()\n",
    "canv.Draw()\n",
    "leg.Clear()\n",
    "canv.SaveAs(\"Eff_pt_L1DoubleMuOpen_Comp.pdf\")\n",
    "\n",
    "canv, leg = DrawTrigSeq(f_out.Get(\"HLT_HIL2DoubleMu0_Open_v\"), 'pt', canv, _col = 221, _leg = leg, _disc = \"HLT_HIL2DoubleMu0_Open_v\")\n",
    "canv, leg = DrawTrigSeq(f_out.Get(\"HLT_HIL2DoubleMu0_Zero_v\"), 'pt', canv, _and = True, _col = 221, _leg = leg, _disc = \"HLT_HIL2DoubleMu0_Zero_v\")\n",
    "canv, leg = DrawTrigSeq(f_out.Get(\"HLT_HIL2DoubleMu0_SQ_v\"), 'pt', canv, _and = True, _col = 208, _leg = leg, _disc = \"HLT_HIL2DoubleMu0_SQ_v\")\n",
    "canv, leg = DrawTrigSeq(f_leg.Get(\"HLT_HIL2DoubleMuOpen_v\"), 'pt', canv, _and = True, _col = 5, _leg = leg, _disc = \"HLT_HIL2DoubleMu0_Legacy_v\")\n",
    "leg.DrawClone()\n",
    "canv.Draw()\n",
    "leg.Clear()\n",
    "# canv = DrawTrigOne(f_out.Get(\"HLT_HIL2DoubleMu0_Open_v\"), 'pt', canv)\n",
    "# canv = DrawTrigOne(f_leg.Get(\"HLT_HIL2DoubleMuOpen_v\"), 'pt', canv, _and = True)\n",
    "canv.SaveAs(\"Eff_pt_L2DoubleMuOpen_Comp.pdf\")\n",
    "# canv = DrawTrigOne(f_out.Get(\"HLT_HIL3DoubleMu0_Open_v\"), 'pt', canv)\n",
    "# canv = DrawTrigOne(f_leg.Get(\"HLT_HIL3DoubleMuOpen_v\"), 'pt', canv, _and = True)\n",
    "canv, leg = DrawTrigSeq(f_out.Get(\"HLT_HIL3DoubleMu0_Open_v\"), 'pt', canv, _col = 221, _leg = leg, _disc = \"HLT_HIL3DoubleMu0_Open_v\")\n",
    "canv, leg = DrawTrigSeq(f_out.Get(\"HLT_HIL3DoubleMu0_Zero_v\"), 'pt', canv, _and = True, _col = 221, _leg = leg, _disc = \"HLT_HIL3DoubleMu0_Zero_v\")\n",
    "canv, leg = DrawTrigSeq(f_out.Get(\"HLT_HIL3DoubleMu0_SQ_v\"), 'pt', canv, _and = True, _col = 208, _leg = leg, _disc = \"HLT_HIL3DoubleMu0_SQ_v\")\n",
    "canv, leg = DrawTrigSeq(f_leg.Get(\"HLT_HIL3DoubleMuOpen_v\"), 'pt', canv, _and = True, _col = 5, _leg = leg, _disc = \"HLT_HIL3DoubleMu0_Legacy_v\")\n",
    "leg.SetY1(0.52);leg.SetY2(0.87);\n",
    "leg.DrawClone()\n",
    "leg.Clear()\n",
    "canv.Draw()\n",
    "canv.SaveAs(\"Eff_pt_L3DoubleMuOpen_Comp.pdf\")"
   ]
  },
  {
   "cell_type": "code",
   "execution_count": null,
   "id": "04d50b70-b8b5-49ed-adc6-23654894e7ea",
   "metadata": {},
   "outputs": [],
   "source": []
  }
 ],
 "metadata": {
  "kernelspec": {
   "display_name": "Python 3 (ipykernel)",
   "language": "python",
   "name": "python3"
  },
  "language_info": {
   "codemirror_mode": {
    "name": "ipython",
    "version": 3
   },
   "file_extension": ".py",
   "mimetype": "text/x-python",
   "name": "python",
   "nbconvert_exporter": "python",
   "pygments_lexer": "ipython3",
   "version": "3.8.10"
  }
 },
 "nbformat": 4,
 "nbformat_minor": 5
}
