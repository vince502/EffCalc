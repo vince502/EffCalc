{
 "cells": [
  {
   "cell_type": "code",
   "execution_count": 1,
   "id": "61a828de-a98e-4341-9040-193b98da0902",
   "metadata": {},
   "outputs": [
    {
     "name": "stdout",
     "output_type": "stream",
     "text": [
      "Welcome to JupyROOT 6.26/00\n"
     ]
    }
   ],
   "source": [
    "from ROOT import TEfficiency, TFile, TDirectory, TCanvas, gStyle, TGraphAsymmErrors, TLegend"
   ]
  },
  {
   "cell_type": "code",
   "execution_count": 2,
   "id": "d02ffb0d-759e-4282-a54a-5f86182044ac",
   "metadata": {},
   "outputs": [],
   "source": [
    "x =  ( 0.5, 1., 1.5, 2., 2.5, 3., 3.5, 4., 4.5, 5., 5.5, 6., 6.5, 7.)\n",
    "def getcolor(i) :\n",
    "    return  99 - (i * 3)"
   ]
  },
  {
   "cell_type": "code",
   "execution_count": 28,
   "id": "be99302f-809d-4b7b-8494-a09343ffe702",
   "metadata": {},
   "outputs": [
    {
     "name": "stderr",
     "output_type": "stream",
     "text": [
      "Warning in <TCanvas::Constructor>: Deleting canvas with same name: c1\n",
      "Warning in <TCanvas::Constructor>: Deleting canvas with same name: ctmp\n"
     ]
    }
   ],
   "source": [
    "canv = TCanvas(\"c1\", \"\" ,700, 600);\n",
    "canv.SetGrid()\n",
    "canv_tmp = TCanvas(\"ctmp\", \"\" ,700, 600);"
   ]
  },
  {
   "cell_type": "code",
   "execution_count": 29,
   "id": "85e3b213-18eb-4e90-82c0-bd45c05d4ebb",
   "metadata": {},
   "outputs": [],
   "source": [
    "gStyle.SetEndErrorSize(0)\n",
    "range_up = 1.1\n",
    "marker_size = 1.1\n",
    "marker_style = 21"
   ]
  },
  {
   "cell_type": "code",
   "execution_count": 30,
   "id": "c1eecfcd-c084-4896-b529-3bf215127c50",
   "metadata": {
    "tags": []
   },
   "outputs": [],
   "source": [
    "canv.cd();\n",
    "def DrawTrig(trigDir, canv) :\n",
    "    canv.Clear();\n",
    "    canv.SetGrid()\n",
    "    canv.cd();\n",
    "    leg = TLegend(0.5, 0.2, 0.8, 0.45)\n",
    "    leg.SetBorderSize(0)\n",
    "    leg.SetNColumns(2)\n",
    "    first = True;\n",
    "    for i in reversed(range(len(x))):\n",
    "        hist = trigDir.Get('pt_%dp%d' % (int(x[i]), int(10 *(x[i] - int(x[i]) ))))\n",
    "        canv_tmp.cd()\n",
    "        hist.Draw()\n",
    "        canv_tmp.Update()\n",
    "        if( (hist.IsA()).GetName() == \"TEfficiency\") :\n",
    "            hist = hist.GetPaintedGraph()\n",
    "        canv.cd()\n",
    "        hist.SetLineColor( getcolor(i) )\n",
    "        hist.SetMarkerColor( getcolor(i) )\n",
    "        hist.SetMarkerSize(marker_size)\n",
    "        hist.SetMarkerStyle(marker_style)\n",
    "        hist.GetYaxis().SetRangeUser(0,range_up)\n",
    "        hist.GetYaxis().SetNdivisions(int(range_up *10))\n",
    "        hist.GetXaxis().SetRangeUser(0,50)\n",
    "        hist.GetXaxis().SetNdivisions(25)\n",
    "        hist.Draw( \"APE\" if first else \"PE\")\n",
    "        leg.AddEntry(hist, \"pt > %.1f\" % x[i])\n",
    "        first = False\n",
    "    leg.DrawClone()\n",
    "    canv.Draw()\n",
    "    return canv\n",
    "\n",
    "def DrawTrigOne(trigDir, obj, canv, _and = False, _col = 221) :\n",
    "    if not ( _and ) :\n",
    "        canv.Clear();\n",
    "    first = True;\n",
    "    hist = trigDir.Get(obj)\n",
    "#    canv_tmp.cd()\n",
    "#    hist.Draw()\n",
    "#    canv_tmp.Update()\n",
    "    if( (hist.IsA()).GetName() == \"TEfficiency\") :\n",
    "        canv_tmp.cd()\n",
    "        hist.Draw()\n",
    "        canv_tmp.Update()\n",
    "        hist = hist.GetPaintedGraph()\n",
    "    canv.cd()\n",
    "    canv.Draw()\n",
    "    col = _col\n",
    "    if( _and ) : col = col-1\n",
    "    hist.SetLineColor(col)\n",
    "    hist.SetMarkerColor(col)\n",
    "    hist.SetMarkerSize(marker_size)\n",
    "    hist.SetMarkerStyle(marker_style)\n",
    "    hist.GetYaxis().SetRangeUser(0,range_up)\n",
    "    hist.GetYaxis().SetNdivisions(int(range_up *10))\n",
    "    hist.GetXaxis().SetRangeUser(0,50)\n",
    "    hist.GetXaxis().SetNdivisions(25)\n",
    "    if( _and ) :\n",
    "        print(\"and\")\n",
    "        hist.Draw( \"PE\" )\n",
    "    else : \n",
    "        hist.Draw( \"APE\" )\n",
    "    \n",
    "    canv.Draw()\n",
    "    return canv\n",
    "\n",
    "def DrawTrigSeq(trigDir, obj, canv, _and = False, _col = 221, _leg = 0, _disc = \"\") :\n",
    "    if not ( _and ) :\n",
    "        canv.Clear();\n",
    "    first = True;\n",
    "    hist = trigDir.Get(obj)\n",
    "    if( (hist.IsA()).GetName() == \"TEfficiency\") :\n",
    "        canv_tmp.cd()\n",
    "        hist.Draw()\n",
    "        canv_tmp.Update()\n",
    "        hist = hist.GetPaintedGraph()\n",
    "    canv.cd()\n",
    "    canv.Draw()\n",
    "    col = _col\n",
    "    if( _and ) : col = col-1\n",
    "    hist.SetLineColor(col)\n",
    "    hist.SetMarkerColor(col)\n",
    "    hist.SetMarkerSize(marker_size)\n",
    "    hist.SetMarkerStyle(marker_style)\n",
    "    hist.GetYaxis().SetRangeUser(0,range_up)\n",
    "    hist.GetYaxis().SetNdivisions(int(range_up *10))\n",
    "    hist.GetXaxis().SetRangeUser(0,50)\n",
    "    hist.GetXaxis().SetNdivisions(25)\n",
    "    hist.GetXaxis().SetTitle(\"p_{T} (GeV/c)\")\n",
    "    hist.GetYaxis().SetTitle(\"Efficiency\")\n",
    "\n",
    "    if( _leg != 0 ) :\n",
    "        leg.AddEntry(hist, _disc)\n",
    "    if( _and ) :\n",
    "        hist.Draw( \"PE\" )\n",
    "    else : \n",
    "        hist.Draw( \"APE\" )\n",
    "\n",
    "    canv.Draw()\n",
    "    if ( _leg == 0) :\n",
    "        return canv, 0\n",
    "    else :\n",
    "        return canv, leg"
   ]
  },
  {
   "cell_type": "code",
   "execution_count": 51,
   "id": "4768d22c-287e-4ed3-aca6-b2603faede9a",
   "metadata": {},
   "outputs": [],
   "source": [
    "# f_out = TFile.Open(\"output_Data2018_newMenu.root\")\n",
    "# f_out = TFile.Open(\"output_Data2018_newMenudRCut0p3.root\")\n",
    "f_out1 = TFile.Open(\"output_Data2018_v2_6.root\")\n",
    "# f_out2 = TFile.Open(\"output_Data2018_v2_7_mod1.root\")\n",
    "# f_out2 = TFile.Open(\"output_JPsiEMB_v2_9.root\")\n",
    "f_out2 = TFile.Open(\"output_JPsiEMB_v2_9.root\")\n",
    "\n",
    "ver1 = \"v2_9\"\n",
    "pltdir = \"Eff_%s\" % ver1\n",
    "ver = \"JPsiEMB\" + ver1"
   ]
  },
  {
   "cell_type": "code",
   "execution_count": 39,
   "id": "51bf366e-898d-47f1-8dbf-210fcb7766ff",
   "metadata": {},
   "outputs": [],
   "source": [
    "f_leg = TFile.Open(\"output_Data2018_LegacydR0p3.root\")"
   ]
  },
  {
   "cell_type": "code",
   "execution_count": 40,
   "id": "ee30558f-7c2d-45da-8010-d53857129414",
   "metadata": {},
   "outputs": [],
   "source": [
    "leg = TLegend(0.15,0.12,0.45,0.35)\n",
    "leg.SetBorderSize(0)"
   ]
  },
  {
   "cell_type": "code",
   "execution_count": 59,
   "id": "04d50b70-b8b5-49ed-adc6-23654894e7ea",
   "metadata": {},
   "outputs": [
    {
     "name": "stderr",
     "output_type": "stream",
     "text": [
      "Info in <TCanvas::Print>: pdf file Eff_v2_9/Eff_pt_L1DoubleMuOpen_Comp_JPsiEMBv2_9.pdf has been created\n",
      "Info in <TCanvas::Print>: pdf file Eff_v2_9/Eff_pt_L2DoubleMuOpen_Comp_JPsiEMBv2_9.pdf has been created\n",
      "Info in <TCanvas::Print>: pdf file Eff_v2_9/Eff_pt_L3DoubleMuOpen_Comp_JPsiEMBv2_9.pdf has been created\n",
      "Info in <TCanvas::Print>: pdf file Eff_v2_9/Eff_pt_DoubleMuOpenMass_Comp_JPsiEMBv2_9.pdf has been created\n"
     ]
    },
    {
     "data": {
      "image/png": "[encoded data removed]",
      "text/plain": [
       "<IPython.core.display.Image object>"
      ]
     },
     "metadata": {},
     "output_type": "display_data"
    }
   ],
   "source": [
    "\n",
    "\n",
    "leg.SetNColumns(1)\n",
    "leg.SetTextSize(0.024)\n",
    "leg.SetX1(0.52);leg.SetX2(0.87);leg.SetY1(0.12);leg.SetY2(0.35);\n",
    "leg.Clear()\n",
    "#canv, leg = DrawTrigSeq(f_out1.Get(\"L1DoubleMuOpen\"), 'pt', canv, _col = 221, _leg = leg, _disc = \"L1DoubleMuOpen v2-6\")\n",
    "#canv, leg = DrawTrigSeq(f_out1.Get(\"L1DoubleMuZero\"), 'pt', canv, _and = True, _col = 221, _leg = leg, _disc = \"L1DoubleMuZero v2-6\")\n",
    "#canv, leg = DrawTrigSeq(f_out1.Get(\"L1DoubleMuSQ\"), 'pt', canv, _and = True, _col = 208, _leg = leg, _disc = \"L1DoubleMu SQ v2-6\")\n",
    "\n",
    "canv, leg = DrawTrigSeq(f_out2.Get(\"L1DoubleMuOpen\"), 'pt', canv, _and = False, _col = 216, _leg = leg, _disc = \"L1DoubleMuOpen %s\" % ver1)# v2-7-mod1\")\n",
    "canv, leg = DrawTrigSeq(f_out2.Get(\"L1DoubleMuZero\"), 'pt', canv, _and = True, _col = 211, _leg = leg, _disc = \"L1DoubleMuZero %s\" % ver1)# v2-7-mod1\")\n",
    "canv, leg = DrawTrigSeq(f_out2.Get(\"L1DoubleMuSQ\"), 'pt', canv, _and = True, _col = 95, _leg = leg, _disc = \"L1DoubleMu SQ %s\" % ver1)# v2-7-mod1\")\n",
    "\n",
    "# canv, leg = DrawTrigSeq(f_leg.Get(\"HLT_HIL1DoubleMuOpen_v\"), 'pt', canv, _and = True, _col = 2, _leg = leg, _disc = \"HLT_HIL1DoubleMu0_Legacy_v\")\n",
    "leg.DrawClone()\n",
    "canv.Draw()\n",
    "canv.SaveAs(\"%s/Eff_pt_L1DoubleMuOpen_Comp_%s.pdf\" % (pltdir, ver) )\n",
    "leg.Clear()\n",
    "\n",
    "# canv, leg = DrawTrigSeq(f_out1.Get(\"L2DoubleMuOpen\"), 'pt', canv, _col = 221, _leg = leg, _disc = \"L2DoubleMuOpen v2-6\")\n",
    "# canv, leg = DrawTrigSeq(f_out1.Get(\"L2DoubleMuZero\"), 'pt', canv, _and = True, _col = 221, _leg = leg, _disc = \"L2DoubleMuZero v2-6\")\n",
    "# canv, leg = DrawTrigSeq(f_out1.Get(\"L2DoubleMuSQ\"), 'pt', canv, _and = True, _col = 208, _leg = leg, _disc = \"L2DoubleMu SQ v2-6\")\n",
    "\n",
    "canv, leg = DrawTrigSeq(f_out2.Get(\"L2DoubleMuOpen\"), 'pt_3p5', canv, _and = False, _col = 216, _leg = leg, _disc = \"L2DoubleMuOpen %s\" % ver1)\n",
    "canv, leg = DrawTrigSeq(f_out2.Get(\"L2DoubleMuZero\"), 'pt_3p5', canv, _and = True, _col = 211, _leg = leg, _disc = \"L2DoubleMuZero %s\" % ver1)\n",
    "canv, leg = DrawTrigSeq(f_out2.Get(\"L2DoubleMuSQ\"), 'pt_3p5', canv, _and = True, _col = 95, _leg = leg, _disc = \"L2DoubleMu SQ %s\" % ver1)\n",
    "\n",
    "# canv, leg = DrawTrigSeq(f_leg.Get(\"HLT_HIL2DoubleMuOpen_v\"), 'pt', canv, _and = True, _col = 2, _leg = leg, _disc = \"HLT_HIL2DoubleMu0_Legacy_v\")\n",
    "leg.SetX1(0.17)\n",
    "leg.SetNColumns(2)\n",
    "leg.DrawClone()\n",
    "canv.Draw()\n",
    "canv.SaveAs(\"%s/Eff_pt_L2DoubleMuOpen_Comp_%s.pdf\" % (pltdir, ver) )\n",
    "leg.Clear()\n",
    "\n",
    "# canv, leg = DrawTrigSeq(f_out1.Get(\"L3DoubleMuOpen\"), 'pt', canv, _col = 221, _leg = leg, _disc = \"L3DoubleMuOpen v2-6\")\n",
    "# canv, leg = DrawTrigSeq(f_out1.Get(\"L3DoubleMuZero\"), 'pt', canv, _and = True, _col = 221, _leg = leg, _disc = \"L3DoubleMuZero v2-6\")\n",
    "# canv, leg = DrawTrigSeq(f_out1.Get(\"L3DoubleMuSQ\"), 'pt', canv, _and = True, _col = 208, _leg = leg, _disc = \"L3DoubleMu SQ v2-6\")\n",
    "\n",
    "canv, leg = DrawTrigSeq(f_out2.Get(\"L3DoubleMuOpen\"), 'pt_3p5', canv, _and = False, _col = 216, _leg = leg, _disc = \"L3DoubleMuOpen %s\" % ver1)\n",
    "canv, leg = DrawTrigSeq(f_out2.Get(\"L3DoubleMuZero\"), 'pt_3p5', canv, _and = True, _col = 211, _leg = leg, _disc = \"L3DoubleMuZero %s\" % ver1)\n",
    "canv, leg = DrawTrigSeq(f_out2.Get(\"L3DoubleMuSQ\"), 'pt_3p5', canv, _and = True, _col = 95, _leg = leg, _disc = \"L3DoubleMu SQ %s\" % ver1)\n",
    "\n",
    "#canv, leg = DrawTrigSeq(f_leg.Get(\"HLT_HIL3DoubleMuOpen_v\"), 'pt', canv, _and = True, _col = 2, _leg = leg, _disc = \"HLT_HIL3DoubleMu0_Legacy_v\")\n",
    "leg.SetX1(0.72);leg.SetX2(0.82);leg.SetY1(0.12);leg.SetY2(0.39);\n",
    "leg.SetNColumns(1)\n",
    "leg.DrawClone()\n",
    "leg.Clear()\n",
    "canv.Draw()\n",
    "canv.SaveAs(\"%s/Eff_pt_L3DoubleMuOpen_Comp_%s.pdf\" % (pltdir, ver) )\n",
    "\n",
    "canv, leg = DrawTrigSeq(f_out2.Get(\"L1DoubleMuOpen_drMax3p5M0to7_Open\"), 'pt_3p5', canv, _and = False, _col = 216, _leg = leg, _disc = \"L1DoubleMu Open Mass 0 to 7 GeV %s\" % ver1)\n",
    "canv, leg = DrawTrigSeq(f_out2.Get(\"L2DoubleMuOpen_drMax3p5_M0to7_Open\"), 'pt_3p5', canv, _and = True, _col = 211, _leg = leg, _disc = \"L2DoubleMu Open Mass 0 to 7 GeV %s\" % ver1)\n",
    "canv, leg = DrawTrigSeq(f_out2.Get(\"L3DoubleMuOpen_drMax3p5_M0to7_Open\"), 'pt_3p5', canv, _and = True, _col = 95, _leg = leg, _disc = \"L3DoubleMu Open Mass 0 to 7 GeV %s\" % ver1)\n",
    "\n",
    "#canv, leg = DrawTrigSeq(f_leg.Get(\"HLT_HIL3DoubleMuOpen_v\"), 'pt', canv, _and = True, _col = 2, _leg = leg, _disc = \"HLT_HIL3DoubleMu0_Legacy_v\")\n",
    "leg.SetX1(0.68);leg.SetX2(0.82);leg.SetY1(0.12);leg.SetY2(0.39);\n",
    "leg.SetNColumns(1)\n",
    "leg.DrawClone()\n",
    "leg.Clear()\n",
    "canv.Draw()\n",
    "canv.SaveAs(\"%s/Eff_pt_DoubleMuOpenMass_Comp_%s.pdf\" % (pltdir, ver) )\n",
    "\n",
    "# canv, leg = DrawTrigSeq(f_out2.Get(\"L2DoubleMuOpen_drMax3p5_M0to7_Open\"), 'pt', canv, _and = False, _col = 216, _leg = leg, _disc = \"L1DoubleMu Open Mass 0 to 7 GeV %s\" % ver1)\n",
    "# canv, leg = DrawTrigSeq(f_out2.Get(\"L3DoubleMuOpen_drMax3p5_M0to7_Open\"), 'pt_2p5', canv, _and = False, _col = 211, _leg = leg, _disc = \"L2DoubleMu Open Mass 0 to 7 GeV %s\" % ver1)\n",
    "# canv, leg = DrawTrigSeq(f_out2.Get(\"L3DoubleMuOpen_drMax3p5_M0to7_Open\"), 'pt', canv, _and = True, _col = 208, _leg = leg, _disc = \"L2DoubleMu Open Mass 0 to 7 GeV %s\" % ver1)\n",
    "\n",
    "# canv, leg = DrawTrigSeq(f_out2.Get(\"L3DoubleMuOpen_drMax3p5_M0to7_Open\"), 'pt_2p5', canv, _and = False, _col = 211, _leg = leg, _disc = \"L2DoubleMu Open Mass 0 to 7 GeV %s\" % ver1)\n",
    "\n",
    "canv, leg = DrawTrigSeq(f_out2.Get(\"L2DoubleMuOpen\"), 'pt_2p5', canv, _and = False, _col = 216, _leg = leg, _disc = \"L2DoubleMu Open pT cut Mass 0 to 7 GeV %s\" % ver1)\n",
    "canv, leg = DrawTrigSeq(f_out2.Get(\"L2DoubleMuOpen\"), 'pt', canv, _and = True, _col = 218, _leg = leg, _disc = \"L2DoubleMu Open Mass 0 to 7 GeV %s\" % ver1)\n",
    "canv, leg = DrawTrigSeq(f_out2.Get(\"L2DoubleMuZero\"), 'pt', canv, _and = True, _col = 216, _leg = leg, _disc = \"L2DoubleMu Zero Mass 0 to 7 GeV %s\" % ver1)\n",
    "canv, leg = DrawTrigSeq(f_out2.Get(\"L2DoubleMuSQ\"), 'pt', canv, _and = True, _col = 211, _leg = leg, _disc = \"L2DoubleMu SQ Mass 0 to 7 GeV %s\" % ver1)\n",
    "leg.DrawClone()\n",
    "canv.Draw()\n"
   ]
  },
  {
   "cell_type": "code",
   "execution_count": 58,
   "id": "c19f6806-338d-4ea7-b20f-5f537c00486b",
   "metadata": {},
   "outputs": [
    {
     "name": "stderr",
     "output_type": "stream",
     "text": [
      "Info in <TCanvas::Print>: pdf file Eff_pt_L3DoubleMuOpen_Comp_MassCut_v2_7_mod1.pdf has been created\n"
     ]
    },
    {
     "data": {
      "image/png": "[encoded data removed]",
      "text/plain": [
       "<IPython.core.display.Image object>"
      ]
     },
     "metadata": {},
     "output_type": "display_data"
    }
   ],
   "source": [
    "leg.SetNColumns(1)\n",
    "canv, leg = DrawTrigSeq(f_out1.Get(\"L3DoubleMuOpen_drMax3p5_M0to7_Open\"), 'pt', canv, _col = 221, _leg = leg, _disc = \"L3Dimu M0~7 v2-6\")\n",
    "\n",
    "canv, leg = DrawTrigSeq(f_out2.Get(\"L3DoubleMuOpen_drMax3p5_M0to7_Open\"), 'pt', canv, _and = True, _col = 216, _leg = leg, _disc = \"L3Dimu M0~7 v2-7-mod1\")\n",
    "\n",
    "canv, leg = DrawTrigSeq(f_leg.Get(\"HLT_HIL3DoubleMuOpen_v\"), 'pt', canv, _and = True, _col = 3, _leg = leg, _disc = \"HLT_HIL3DoubleMu0_Legacy_v\")\n",
    "leg.SetY1(0.57);leg.SetY2(0.87);\n",
    "leg.DrawClone()\n",
    "leg.Clear()\n",
    "canv.Draw()\n",
    "canv.SaveAs(\"Eff_pt_L3DoubleMuOpen_Comp_MassCut_%s.pdf\" % ver)"
   ]
  },
  {
   "cell_type": "code",
   "execution_count": 59,
   "id": "38cc2f2d-7a1b-4171-87c5-9cb303307f30",
   "metadata": {},
   "outputs": [
    {
     "name": "stderr",
     "output_type": "stream",
     "text": [
      "Info in <TCanvas::Print>: pdf file Eff_pt_L3DoubleMuOpen_Comp_MassCut_v2_7_mod1.pdf has been created\n"
     ]
    },
    {
     "data": {
      "image/png": "[encoded data removed]",
      "text/plain": [
       "<IPython.core.display.Image object>"
      ]
     },
     "metadata": {},
     "output_type": "display_data"
    }
   ],
   "source": [
    "leg.SetNColumns(1)\n",
    "canv, leg = DrawTrigSeq(f_out1.Get(\"HLT_HIL3Mu0_v\"), 'pt', canv, _col = 221, _leg = leg, _disc = \"L3 Single Muon v2-6\")\n",
    "\n",
    "canv, leg = DrawTrigSeq(f_out2.Get(\"HLT_HIL3Mu0_v\"), 'pt', canv, _and = True, _col = 216, _leg = leg, _disc = \"L3 Single Muon v2-7-mod1\")\n",
    "\n",
    "canv, leg = DrawTrigSeq(f_leg.Get(\"HLT_HIL3Mu12_v\"), 'pt', canv, _and = True, _col = 3, _leg = leg, _disc = \"HLT_HIL3Mu12_legacy\")\n",
    "leg.SetY1(0.21);leg.SetY2(0.44);\n",
    "leg.SetX1(0.16);leg.SetX2(0.45);\n",
    "\n",
    "leg.DrawClone()\n",
    "leg.Clear()\n",
    "canv.Draw()\n",
    "canv.SaveAs(\"Eff_pt_L3DoubleMuOpen_Comp_MassCut_%s.pdf\" % ver)"
   ]
  },
  {
   "cell_type": "code",
   "execution_count": 18,
   "id": "548a7e57-a3a6-45a2-980c-1394da724ebe",
   "metadata": {},
   "outputs": [],
   "source": [
    "if f_out1.IsOpen()  : f_out1.Close()\n",
    "if f_out2.IsOpen()  : f_out2.Close()\n",
    "f_out1 = TFile.Open(\"output_Data2018_v2_6.root\")\n",
    "f_out2 = TFile.Open(\"output_Data2018_v2_7_mod1.root\")"
   ]
  },
  {
   "cell_type": "code",
   "execution_count": null,
   "id": "b2c78db0-5688-495b-b886-43dccf41447f",
   "metadata": {},
   "outputs": [],
   "source": [
    "ver = \"v2_7_mod1\"\n",
    "pltdir = \"Eff_JPsiHydjet_v220530\"\n",
    "leg.SetNColumns(1)\n",
    "leg.SetTextSize(0.024)\n",
    "leg.SetX1(0.12);leg.SetX2(0.67);leg.SetY1(0.12);leg.SetY2(0.35);\n",
    "leg.Clear()\n",
    "#canv, leg = DrawTrigSeq(f_out1.Get(\"L1DoubleMuOpen\"), 'pt', canv, _col = 221, _leg = leg, _disc = \"L1DoubleMuOpen v2-6\")\n",
    "#canv, leg = DrawTrigSeq(f_out1.Get(\"L1DoubleMuZero\"), 'pt', canv, _and = True, _col = 221, _leg = leg, _disc = \"L1DoubleMuZero v2-6\")\n",
    "#canv, leg = DrawTrigSeq(f_out1.Get(\"L1DoubleMuSQ\"), 'pt', canv, _and = True, _col = 208, _leg = leg, _disc = \"L1DoubleMu SQ v2-6\")\n",
    "\n",
    "canv, leg = DrawTrigSeq(f_out2.Get(\"L1DoubleMuOpen\"), 'pt', canv, _and = False, _col = 216, _leg = leg, _disc = \"L1DoubleMuOpen new\")# v2-7-mod1\")\n",
    "canv, leg = DrawTrigSeq(f_out2.Get(\"L1DoubleMuZero\"), 'pt', canv, _and = True, _col = 211, _leg = leg, _disc = \"L1DoubleMuZero new\")# v2-7-mod1\")\n",
    "canv, leg = DrawTrigSeq(f_out2.Get(\"L1DoubleMuSQ\"), 'pt', canv, _and = True, _col = 95, _leg = leg, _disc = \"L1DoubleMu SQ\")# v2-7-mod1\")\n",
    "\n",
    "canv, leg = DrawTrigSeq(f_leg.Get(\"HLT_HIL1DoubleMuOpen_v\"), 'pt', canv, _and = True, _col = 2, _leg = leg, _disc = \"HLT_HIL1DoubleMu0_Legacy_v\")\n",
    "leg.DrawClone()\n",
    "canv.Draw()\n",
    "canv.SaveAs(\"%s/Eff_pt_L1DoubleMuOpen_Comp_%s.pdf\" % (pltdir, ver) )\n",
    "leg.Clear()\n",
    "\n",
    "# canv, leg = DrawTrigSeq(f_out1.Get(\"L2DoubleMuOpen\"), 'pt', canv, _col = 221, _leg = leg, _disc = \"L2DoubleMuOpen v2-6\")\n",
    "# canv, leg = DrawTrigSeq(f_out1.Get(\"L2DoubleMuZero\"), 'pt', canv, _and = True, _col = 221, _leg = leg, _disc = \"L2DoubleMuZero v2-6\")\n",
    "# canv, leg = DrawTrigSeq(f_out1.Get(\"L2DoubleMuSQ\"), 'pt', canv, _and = True, _col = 208, _leg = leg, _disc = \"L2DoubleMu SQ v2-6\")\n",
    "\n",
    "canv, leg = DrawTrigSeq(f_out2.Get(\"L2DoubleMuOpen\"), 'pt', canv, _and = False, _col = 216, _leg = leg, _disc = \"L2DoubleMuOpen v2-7-mod1\")\n",
    "canv, leg = DrawTrigSeq(f_out2.Get(\"L2DoubleMuZero\"), 'pt', canv, _and = True, _col = 211, _leg = leg, _disc = \"L2DoubleMuZero v2-7-mod1\")\n",
    "canv, leg = DrawTrigSeq(f_out2.Get(\"L2DoubleMuSQ\"), 'pt', canv, _and = True, _col = 95, _leg = leg, _disc = \"L2DoubleMu SQ v2-7-mod1\")\n",
    "\n",
    "canv, leg = DrawTrigSeq(f_leg.Get(\"HLT_HIL2DoubleMuOpen_v\"), 'pt', canv, _and = True, _col = 2, _leg = leg, _disc = \"HLT_HIL2DoubleMu0_Legacy_v\")\n",
    "leg.SetX1(0.17)\n",
    "leg.SetNColumns(2)\n",
    "leg.DrawClone()\n",
    "canv.Draw()\n",
    "canv.SaveAs(\"%s/Eff_pt_L2DoubleMuOpen_Comp_%s.pdf\" % (pltdir, ver) )\n",
    "leg.Clear()\n",
    "\n",
    "# canv, leg = DrawTrigSeq(f_out1.Get(\"L3DoubleMuOpen\"), 'pt', canv, _col = 221, _leg = leg, _disc = \"L3DoubleMuOpen v2-6\")\n",
    "# canv, leg = DrawTrigSeq(f_out1.Get(\"L3DoubleMuZero\"), 'pt', canv, _and = True, _col = 221, _leg = leg, _disc = \"L3DoubleMuZero v2-6\")\n",
    "# canv, leg = DrawTrigSeq(f_out1.Get(\"L3DoubleMuSQ\"), 'pt', canv, _and = True, _col = 208, _leg = leg, _disc = \"L3DoubleMu SQ v2-6\")\n",
    "\n",
    "canv, leg = DrawTrigSeq(f_out2.Get(\"L3DoubleMuOpen\"), 'pt', canv, _and = False, _col = 216, _leg = leg, _disc = \"L3DoubleMuOpen v2-7-mod1\")\n",
    "canv, leg = DrawTrigSeq(f_out2.Get(\"L3DoubleMuZero\"), 'pt', canv, _and = True, _col = 211, _leg = leg, _disc = \"L3DoubleMuZero v2-7-mod1\")\n",
    "canv, leg = DrawTrigSeq(f_out2.Get(\"L3DoubleMuSQ\"), 'pt', canv, _and = True, _col = 95, _leg = leg, _disc = \"L3DoubleMu SQ v2-7-mod1\")\n",
    "\n",
    "canv, leg = DrawTrigSeq(f_leg.Get(\"HLT_HIL3DoubleMuOpen_v\"), 'pt', canv, _and = True, _col = 2, _leg = leg, _disc = \"HLT_HIL3DoubleMu0_Legacy_v\")\n",
    "leg.SetX1(0.12);leg.SetY1(0.62);leg.SetY2(0.89);\n",
    "leg.DrawClone()\n",
    "leg.Clear()\n",
    "canv.Draw()\n",
    "canv.SaveAs(\"%s/Eff_pt_L3DoubleMuOpen_Comp_%s.pdf\" % (pltdir, ver) )\n"
   ]
  }
 ],
 "metadata": {
  "kernelspec": {
   "display_name": "Python 3 (ipykernel)",
   "language": "python",
   "name": "python3"
  },
  "language_info": {
   "codemirror_mode": {
    "name": "ipython",
    "version": 3
   },
   "file_extension": ".py",
   "mimetype": "text/x-python",
   "name": "python",
   "nbconvert_exporter": "python",
   "pygments_lexer": "ipython3",
   "version": "3.8.10"
  }
 },
 "nbformat": 4,
 "nbformat_minor": 5
}
