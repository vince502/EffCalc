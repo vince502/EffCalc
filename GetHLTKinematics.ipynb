{
 "cells": [
  {
   "cell_type": "code",
   "execution_count": 1,
   "id": "901277b7-3c4e-4dc9-8ee8-8d6eca8493f8",
   "metadata": {},
   "outputs": [
    {
     "name": "stdout",
     "output_type": "stream",
     "text": [
      "Welcome to JupyROOT 6.26/00\n"
     ]
    }
   ],
   "source": [
    "from ROOT import TEfficiency, TFile, TDirectory, TCanvas, gStyle, TGraphAsymmErrors, TLegend"
   ]
  },
  {
   "cell_type": "code",
   "execution_count": 2,
   "id": "55df844f-8d32-4394-8cc2-8156d8019ee8",
   "metadata": {},
   "outputs": [],
   "source": [
    "f_out = TFile.Open(\"outputHLT_Data2018_newMenudRCut0p3.root\")"
   ]
  },
  {
   "cell_type": "code",
   "execution_count": 39,
   "id": "fa33e8c4-0121-406d-b510-17d506be5e28",
   "metadata": {},
   "outputs": [],
   "source": [
    "def DrawTrigSeq(trigDir, obj, canv, _and = False, _col = 221, _leg = 0, _disc = \"\", _rxu = 50, _rxd = 0, _ryd = 0, _ryu = 1, _nx = 25, _ny = 30) :\n",
    "    if not ( _and ) :\n",
    "        canv.Clear();\n",
    "    first = True;\n",
    "    hist = trigDir.Get(obj)\n",
    "    hist = hist.GetPassedHistogram()\n",
    "    if( (hist.IsA()).GetName() == \"TEfficiency\") :\n",
    "        canv_tmp.cd()\n",
    "        hist.Draw()\n",
    "        canv_tmp.Update()\n",
    "        hist = hist.GetPaintedGraph()\n",
    "    canv.cd()\n",
    "    canv.Draw()\n",
    "    col = _col\n",
    "    if( _and ) : col = col-1\n",
    "    hist.SetLineColor(col)\n",
    "    hist.SetMarkerColor(col)\n",
    "    hist.SetMarkerSize(marker_size)\n",
    "    hist.SetMarkerStyle(marker_style)\n",
    "    hist.SetStats(0)\n",
    "    hist.GetYaxis().SetRangeUser(_ryd, _ryu)\n",
    "    hist.GetYaxis().SetNdivisions( _ny)\n",
    "    hist.GetXaxis().SetRangeUser(_rxd, _rxu)\n",
    "    hist.GetXaxis().SetNdivisions( _nx)\n",
    "    if( _leg != 0 ) :\n",
    "        leg.AddEntry(hist, _disc)\n",
    "    if( _and ) :\n",
    "        hist.Draw( \"same\" )\n",
    "    else : \n",
    "        hist.Draw( \"\" )\n",
    "\n",
    "    canv.Draw()\n",
    "    if ( _leg == 0) :\n",
    "        return canv, 0\n",
    "    else :\n",
    "        return canv, leg"
   ]
  },
  {
   "cell_type": "code",
   "execution_count": 6,
   "id": "8baaed80-239b-4a1d-87bf-b0778335ee17",
   "metadata": {},
   "outputs": [],
   "source": [
    "canv = TCanvas(\"c1\", \"\" ,700, 600);\n",
    "canv_tmp = TCanvas(\"ctmp\", \"\" ,700, 600);\n",
    "gStyle.SetEndErrorSize(0)\n",
    "range_up = 1.1\n",
    "marker_size = 1.1\n",
    "marker_style = 21"
   ]
  },
  {
   "cell_type": "code",
   "execution_count": 7,
   "id": "aec26b12-5702-423e-8763-39e6b33dc60c",
   "metadata": {},
   "outputs": [],
   "source": [
    "leg = TLegend(0.15,0.12,0.45,0.35)\n",
    "leg.SetBorderSize(0)"
   ]
  },
  {
   "cell_type": "code",
   "execution_count": 42,
   "id": "93b8f20b-5afb-43c7-8e92-75863170d339",
   "metadata": {},
   "outputs": [
    {
     "name": "stderr",
     "output_type": "stream",
     "text": [
      "Info in <TCanvas::Print>: pdf file HLTKineDist/HLT_eta_L1DoubleMuOpen_Data2018New_v9.pdf has been created\n",
      "Info in <TCanvas::Print>: pdf file HLTKineDist/HLT_phi_L1DoubleMuOpen_Data2018New_v9.pdf has been created\n",
      "Info in <TCanvas::Print>: pdf file HLTKineDist/HLT_pt_L1DoubleMuOpen_Data2018New_v9.pdf has been created\n"
     ]
    },
    {
     "data": {
      "image/png": "[encoded data removed]",
      "text/plain": [
       "<IPython.core.display.Image object>"
      ]
     },
     "metadata": {},
     "output_type": "display_data"
    }
   ],
   "source": [
    "leg.SetX1(0.55);leg.SetX2(0.85);leg.SetY1(0.62);leg.SetY2(0.85);\n",
    "leg.Clear()\n",
    "canv, leg = DrawTrigSeq(f_out.Get(\"HLT_HIL1DoubleMu0_Open_v\"), 'hlteta', canv, _col = 221, _leg = leg, _disc = \"HLT_HIL1DoubleMu0_Open_v\", _rxd = -2.4, _rxu = 2.4, _ryd= 0 , _ryu = 2e+5, _nx = 12, _ny = 20)\n",
    "leg.DrawClone()\n",
    "canv.Draw()\n",
    "leg.Clear()\n",
    "canv.SaveAs(\"HLTKineDist/HLT_eta_L1DoubleMuOpen_Data2018New_v9.pdf\")\n",
    "leg.SetX1(0.55);leg.SetX2(0.85);leg.SetY1(0.72);leg.SetY2(0.85);\n",
    "canv, leg = DrawTrigSeq(f_out.Get(\"HLT_HIL1DoubleMu0_Open_v\"), 'hltphi', canv, _col = 221, _leg = leg, _disc = \"HLT_HIL1DoubleMu0_Open_v\", _rxd = (-2)* 3.14, _rxu = 2 * 3.14, _ryd= 0 , _ryu = 4e+4, _nx = 12, _ny = 20)\n",
    "leg.DrawClone()\n",
    "canv.Draw()\n",
    "leg.Clear()\n",
    "canv.SaveAs(\"HLTKineDist/HLT_phi_L1DoubleMuOpen_Data2018New_v9.pdf\")\n",
    "leg.SetX1(0.55);leg.SetX2(0.85);leg.SetY1(0.72);leg.SetY2(0.85);\n",
    "canv, leg = DrawTrigSeq(f_out.Get(\"HLT_HIL1DoubleMu0_Open_v\"), 'hltpt', canv, _col = 221, _leg = leg, _disc = \"HLT_HIL1DoubleMu0_Open_v\", _rxd = 0, _rxu = 20, _ryd= 0 , _ryu = 3e+5, _nx = 20, _ny = 20)\n",
    "leg.DrawClone()\n",
    "canv.Draw()\n",
    "leg.Clear()\n",
    "canv.SaveAs(\"HLTKineDist/HLT_pt_L1DoubleMuOpen_Data2018New_v9.pdf\")"
   ]
  },
  {
   "cell_type": "code",
   "execution_count": null,
   "id": "c1980817-1726-4440-b748-49e07dcaaa4e",
   "metadata": {
    "tags": []
   },
   "outputs": [],
   "source": []
  }
 ],
 "metadata": {
  "kernelspec": {
   "display_name": "Python 3 (ipykernel)",
   "language": "python",
   "name": "python3"
  },
  "language_info": {
   "codemirror_mode": {
    "name": "ipython",
    "version": 3
   },
   "file_extension": ".py",
   "mimetype": "text/x-python",
   "name": "python",
   "nbconvert_exporter": "python",
   "pygments_lexer": "ipython3",
   "version": "3.8.10"
  }
 },
 "nbformat": 4,
 "nbformat_minor": 5
}
